{
 "cells": [
  {
   "cell_type": "code",
   "execution_count": 1,
   "metadata": {},
   "outputs": [],
   "source": [
    "from dataclasses import dataclass\n",
    "from typing import Callable\n",
    "from lmfit import  minimize\n",
    "import pandas as pd\n",
    "import os, glob\n",
    "from pathlib import Path\n",
    "\n",
    "from fit_utils import baseline_data, fit_data, plot_data, extract_data\n",
    "\n",
    "BaselineFunction = Callable[[pd.DataFrame, pd.DataFrame, \\\n",
    "                    pd.DataFrame, pd.DataFrame], pd.DataFrame]\n",
    "FitFunction = Callable[[pd.DataFrame, pd.DataFrame], minimize]\n",
    "PlotFunction = Callable[[pd.DataFrame, pd.DataFrame, minimize, minimize], None]\n",
    "ExtractFunction = Callable[[minimize, minimize, pd.DataFrame], float]\n",
    "\n",
    "BACKGROUND_PATH = Path(r\"C:\\Users\\hwahab\\Desktop\\TEST2__\\data\")\n",
    "CAMPAIGN_PATH = Path(r\"C:\\Users\\hwahab\\Desktop\\TEST2__\\Campaigns\\2022-04-14-Series1_\")"
   ]
  },
  {
   "cell_type": "code",
   "execution_count": 2,
   "metadata": {},
   "outputs": [],
   "source": [
    "oneD = [i for i in CAMPAIGN_PATH.glob(\"**/*1D.csv\")]\n",
    "twoD = [i for i in CAMPAIGN_PATH.glob(\"**/*2D.csv\")]"
   ]
  },
  {
   "cell_type": "code",
   "execution_count": 3,
   "metadata": {},
   "outputs": [],
   "source": [
    "@dataclass\n",
    "class RatioBot:\n",
    "\n",
    "    baseline_process: BaselineFunction\n",
    "    fit_process: FitFunction\n",
    "    plot_process: PlotFunction\n",
    "    extract_process: ExtractFunction\n",
    "\n",
    "    def run(self) -> float:\n",
    "        d1_ = pd.read_csv(BACKGROUND_PATH / \"background1D.csv\")\n",
    "        d2_ = pd.read_csv(BACKGROUND_PATH / \"background2D.csv\")\n",
    "        for one, two in zip(oneD, twoD):\n",
    "            print('LOADING DATA')\n",
    "            d1 = pd.read_csv(one)\n",
    "            d2 = pd.read_csv(two)\n",
    "\n",
    "            d1, d2 = self.baseline_process(d1, d2, d1_, d2_)\n",
    "            out1, out2 = self.fit_process(d1, d2)\n",
    "            ratio = self.extract_process(out1, out2, d1)\n",
    "            print(f'GD RATIO: {ratio}')\n",
    "            self.plot_process(d1, d2, out1, out2, one) \n",
    "        return ratio    \n",
    "\n",
    "        # print('LOADING DATA')\n",
    "        # d1 = pd.read_csv(\"col1 line \"+str(line) + \" Point \" + str(spot) + \\\n",
    "        #     \" iteration \"+str(idx) + \" foreground1D.csv\")\n",
    "        # d2 = pd.read_csv(\"col1 line \"+str(line) + \" Point \" + str(spot) + \\\n",
    "        #     \" iteration \"+str(idx) + \" foreground2D.csv\")\n",
    "        # d1_ = pd.read_csv(\"../../data/background1D.csv\")\n",
    "        # d2_ = pd.read_csv(\"../../data/background2D.csv\")\n",
    "        \n",
    "        # d1, d2 = self.baseline_process(d1, d2, d1_, d2_)\n",
    "        # out1, out2 = self.fit_process(d1, d2)\n",
    "        # ratio = self.extract_process(out1, out2, d1)\n",
    "        # print(f'GD RATIO: {ratio}')\n",
    "        # return ratio\n"
   ]
  },
  {
   "cell_type": "code",
   "execution_count": 4,
   "metadata": {},
   "outputs": [],
   "source": [
    "bot = RatioBot(baseline_data, fit_data, plot_data, extract_data)\n",
    "bot.run(1, 2,)"
   ]
  },
  {
   "cell_type": "code",
   "execution_count": null,
   "metadata": {},
   "outputs": [],
   "source": []
  }
 ],
 "metadata": {
  "kernelspec": {
   "display_name": "Python 3",
   "language": "python",
   "name": "python3"
  },
  "language_info": {
   "codemirror_mode": {
    "name": "ipython",
    "version": 3
   },
   "file_extension": ".py",
   "mimetype": "text/x-python",
   "name": "python",
   "nbconvert_exporter": "python",
   "pygments_lexer": "ipython3",
   "version": "3.10.4"
  }
 },
 "nbformat": 4,
 "nbformat_minor": 2
}
