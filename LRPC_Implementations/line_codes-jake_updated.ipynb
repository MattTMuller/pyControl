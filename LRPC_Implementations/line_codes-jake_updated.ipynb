{
 "cells": [
  {
   "cell_type": "markdown",
   "metadata": {},
   "source": [
    "# Make directory"
   ]
  },
  {
   "cell_type": "code",
   "execution_count": 29,
   "metadata": {},
   "outputs": [],
   "source": [
    "import os, glob #import libraries\n",
    "# os.mkdir(r'line stuff')\n",
    "os.chdir(r'C:\\Users\\UWAdmin\\Documents\\JakeHeil\\Line Codes') #change the directory to read/write to"
   ]
  },
  {
   "cell_type": "markdown",
   "metadata": {},
   "source": [
    "## Import libraries"
   ]
  },
  {
   "cell_type": "code",
   "execution_count": 30,
   "metadata": {},
   "outputs": [
    {
     "data": {
      "text/plain": [
       "'c:\\\\Users\\\\UWAdmin\\\\Documents\\\\JakeHeil\\\\Line Codes'"
      ]
     },
     "execution_count": 30,
     "metadata": {},
     "output_type": "execute_result"
    }
   ],
   "source": [
    "import os \n",
    "os.getcwd() #get directory"
   ]
  },
  {
   "cell_type": "code",
   "execution_count": 3,
   "metadata": {},
   "outputs": [
    {
     "name": "stderr",
     "output_type": "stream",
     "text": [
      "c:\\Users\\UWAdmin\\Anaconda3\\lib\\site-packages\\pyvisa\\highlevel.py:3355: FutureWarning: get_instrument is deprecated and will be removed in 1.12, use open_resource instead.\n",
      "  FutureWarning,\n"
     ]
    }
   ],
   "source": [
    "#connecting Laser via modbus\n",
    "from pymeasure.instruments.lighthousephotonics import Sprout\n",
    "laser_power = Sprout('COM4')\n",
    "laser_power.adapter.connection.baud_rate = 19200\n",
    "laser_power.adapter.connection.read_termination = '\\r'\n",
    "laser_power.adapter.connection.write_termination = '\\r'\n",
    "laser_power.power=0.01"
   ]
  },
  {
   "cell_type": "code",
   "execution_count": 49,
   "metadata": {},
   "outputs": [],
   "source": [
    "from threading import Thread\n",
    "import time\n",
    "from time import sleep\n",
    "from datetime import datetime, timedelta\n",
    "\n",
    "from random import randrange\n",
    "\n",
    "from newportxps import NewportXPS\n",
    "\n",
    "import numpy as np\n",
    "import pandas as pd\n",
    "from write_utils import write_data_files, get_mean, get_move_y, duplicate_to_dataset\n",
    "\n",
    "import numpy as np\n",
    "import csv\n",
    "        \n",
    "from flipper import mirror #import flipper mirror codes\n",
    "from spectra import capture_photo #import spectrometer codes\n",
    "\n",
    "from pathlib import Path\n"
   ]
  },
  {
   "cell_type": "markdown",
   "metadata": {},
   "source": [
    "## Activate Motion Controller"
   ]
  },
  {
   "cell_type": "code",
   "execution_count": 5,
   "metadata": {},
   "outputs": [
    {
     "name": "stdout",
     "output_type": "stream",
     "text": [
      "# XPS host:         192.168.254.254 (XPS-1B81)\n",
      "# Firmware:         XPS-D-N13019\n",
      "# Current Time:     Mon May 23 09:45:11 2022\n",
      "# Last Reboot:      Thu Mar  3 14:04:11 2022\n",
      "# Trajectory Group: XYZ\n",
      "# Groups and Stages\n",
      "XYZ (multipleaxesinuse), Status: Ready state from homing\n",
      "   XYZ.X (MFA@MFA-CC@XPS-DRV11)\n",
      "      Hardware Status: First driver powered on - ZM low level\n",
      "      Positioner Errors: OK\n",
      "   XYZ.Y (MFA@MFA-CC@XPS-DRV11)\n",
      "      Hardware Status: First driver powered on - ZM low level\n",
      "      Positioner Errors: OK\n",
      "   XYZ.Z (MFA@MFA-CC@XPS-DRV11)\n",
      "      Hardware Status: First driver powered on - ZM low level\n",
      "      Positioner Errors: OK\n"
     ]
    }
   ],
   "source": [
    "xpsd_remoteip = '192.168.254.254' #xps ip address\n",
    "# xpsd_hostip ='192.168.0.254' \n",
    "hostname = 'XPS-1b81' #login host name\n",
    "\n",
    "xps = NewportXPS(xpsd_remoteip) #connecting to the xps\n",
    "print(xps.status_report()) #get xps status\n",
    "\n",
    "xps.kill_group('XYZ') #clear XYZ group\n",
    "xps.initialize_allgroups() #initialize addressing\n",
    "xps.home_allgroups() #send control plate to origin\n",
    "\n",
    "def pos_all():\n",
    "    for sname, _ in xps.stages.items():\n",
    "        print('{}: {}'.format(sname, xps.get_stage_position(sname)))"
   ]
  },
  {
   "cell_type": "code",
   "execution_count": 6,
   "metadata": {},
   "outputs": [
    {
     "name": "stdout",
     "output_type": "stream",
     "text": [
      "XYZ.X: 8.8497e-05\n",
      "XYZ.Y: 5.30982e-05\n",
      "XYZ.Z: -1.76994e-05\n"
     ]
    }
   ],
   "source": [
    "xps.kill_group('XYZ')\n",
    "xps.initialize_allgroups()\n",
    "xps.home_allgroups()\n",
    "\n",
    "pos_all()"
   ]
  },
  {
   "cell_type": "markdown",
   "metadata": {},
   "source": [
    "## Turn on Laser"
   ]
  },
  {
   "cell_type": "code",
   "execution_count": 7,
   "metadata": {},
   "outputs": [],
   "source": [
    "#turns on laser (does the same thing as pressing the on button)\n",
    "laser_power.write(\"OPMODE=On\")"
   ]
  },
  {
   "cell_type": "markdown",
   "metadata": {},
   "source": [
    "# Launch the LightField / Spectrometer"
   ]
  },
  {
   "cell_type": "code",
   "execution_count": 8,
   "metadata": {},
   "outputs": [],
   "source": [
    "from spectra import * #import library for the raman\n",
    "capture_photo(\"start\",2,1,0) #launch LightField software"
   ]
  },
  {
   "cell_type": "markdown",
   "metadata": {},
   "source": [
    "# Vacuum the chamber"
   ]
  },
  {
   "cell_type": "code",
   "execution_count": 9,
   "metadata": {},
   "outputs": [
    {
     "name": "stderr",
     "output_type": "stream",
     "text": [
      "c:\\Users\\UWAdmin\\Anaconda3\\lib\\site-packages\\pyvisa\\highlevel.py:3355: FutureWarning: get_instrument is deprecated and will be removed in 1.12, use open_resource instead.\n",
      "  FutureWarning,\n"
     ]
    },
    {
     "data": {
      "text/plain": [
       "294"
      ]
     },
     "execution_count": 9,
     "metadata": {},
     "output_type": "execute_result"
    }
   ],
   "source": [
    "from pressure import close_valve,open_valve,close_all,current_pressure,gopr, to_ambient, to_vacuum, quick_fill\n",
    "from pymeasure.instruments.edwards import NXDS\n",
    "\n",
    "\n",
    "# connect to NXDS vacuum pump\n",
    "pump = NXDS('ASRL5::INSTR')\n",
    "\n",
    "current_pressure() #check current pressure"
   ]
  },
  {
   "cell_type": "code",
   "execution_count": null,
   "metadata": {},
   "outputs": [],
   "source": [
    "from pressure import close_valve,open_valve,close_all,current_pressure,gopr, to_ambient, to_vacuum, quick_fill"
   ]
  },
  {
   "cell_type": "code",
   "execution_count": 10,
   "metadata": {},
   "outputs": [
    {
     "data": {
      "text/plain": [
       "1"
      ]
     },
     "execution_count": 10,
     "metadata": {},
     "output_type": "execute_result"
    }
   ],
   "source": [
    "t = 2 # in s\n",
    "to_ambient()\n",
    "time.sleep(1)\n",
    "to_ambient()\n",
    "to_vacuum(t)\n",
    "quick_fill()\n",
    "time.sleep(1)\n",
    "to_vacuum(t)"
   ]
  },
  {
   "cell_type": "code",
   "execution_count": 14,
   "metadata": {},
   "outputs": [
    {
     "data": {
      "text/plain": [
       "2"
      ]
     },
     "execution_count": 14,
     "metadata": {},
     "output_type": "execute_result"
    }
   ],
   "source": [
    "close_all() #close all valves\n",
    "current_pressure() #check current pressure\n",
    "# gopr(20)\n",
    "\n",
    "# run this block to make sure all valves are closed after vacuuming"
   ]
  },
  {
   "cell_type": "code",
   "execution_count": null,
   "metadata": {},
   "outputs": [],
   "source": [
    "to_ambient() #open valve to atmosphere then close valve"
   ]
  },
  {
   "cell_type": "raw",
   "metadata": {},
   "source": [
    " ##Releases pressure and pumps down to vacuum\n",
    "\n",
    "\n",
    "# We should release out the the gas from chamber first, Do it by releasing the out valve .\n",
    "\n",
    "open_valve('out')\n",
    "sleep(50)\n",
    "#after a few seconds close it\n",
    "close_all()\n",
    "\n",
    "\n",
    "#now open the vac valve to remove the exisiting gas..\n",
    "open_valve('vac')\n",
    "\n",
    "#make sure pressure dropped to <20 psi. check it\n",
    "\n",
    "current_pressure()\n",
    "\n",
    "#now start the vacuum\n",
    "vac_pump(\"start\")\n",
    "\n",
    "sleep(200)\n",
    "\n",
    "#now stop it\n",
    "vac_pump(\"stop\")\n",
    "\n",
    "current_pressure()"
   ]
  },
  {
   "cell_type": "raw",
   "metadata": {},
   "source": [
    " ##Run this section only if computer is not communicating with pump properly\n",
    "\n",
    "# once done, close the open valve \n",
    "\n",
    "close_valve('out')\n",
    "\n",
    "#now we need to vaccum the chamber, make sure all valves are closed\n",
    "#then open the vacuum valve\n",
    "\n",
    "close_all()\n",
    "\n",
    "open_valve('vac')"
   ]
  },
  {
   "cell_type": "markdown",
   "metadata": {},
   "source": [
    "# Adjust the pressure --- Don't do this anymore, focus under vacuum"
   ]
  },
  {
   "cell_type": "code",
   "execution_count": null,
   "metadata": {
    "scrolled": true
   },
   "outputs": [],
   "source": [
    "for i in range(5): gopr(120) #iterate through to get to 120psi\n",
    "current_pressure()"
   ]
  },
  {
   "cell_type": "code",
   "execution_count": null,
   "metadata": {},
   "outputs": [],
   "source": [
    "current_pressure() #check that there's no leaks (run a few times)"
   ]
  },
  {
   "cell_type": "markdown",
   "metadata": {},
   "source": [
    "# Focus the laser. Use this block to adjust the z-axis to the position with maximum spectra intensity in LightField. When focus is found, enter 0 and confirm with \"yes\" to complete"
   ]
  },
  {
   "cell_type": "code",
   "execution_count": 16,
   "metadata": {
    "scrolled": true
   },
   "outputs": [
    {
     "name": "stdout",
     "output_type": "stream",
     "text": [
      "MIRROR UP\n",
      "Enter z value (enter 0 when done):\n",
      "1.5\n",
      "1.6\n",
      "1.7\n",
      "1.8\n",
      "1.9\n",
      "2.0\n",
      "1.95\n",
      "1.94\n",
      "1.93\n",
      "1.96\n",
      "1.95\n",
      "1.94\n",
      "1.95\n",
      "XYZ.X: 4.999992003\n",
      "XYZ.Y: 7.0000065036\n",
      "XYZ.Z: 1.9499959962\n"
     ]
    }
   ],
   "source": [
    "mirror('on')\n",
    "\n",
    "#Iterate for input to find z value\n",
    "print(\"Enter z value (enter 0 when done):\")\n",
    "z=''\n",
    "while z != 0:\n",
    "    if z == '':\n",
    "        z = float(input(':'))\n",
    "    print(z)\n",
    "    xps.move_stage('XYZ.Z', z)\n",
    "    xps.move_stage('XYZ.X', 5)\n",
    "    xps.move_stage('XYZ.Y', 7)\n",
    "    z = float(input(':'))\n",
    "    \n",
    "# mirror('on')\n",
    "pos_all()\n",
    "while input('Is LightField Scan Stopped?:(yes/no)')!='yes':\n",
    "    continue"
   ]
  },
  {
   "cell_type": "code",
   "execution_count": null,
   "metadata": {},
   "outputs": [],
   "source": [
    "#mirror(\"on\")\n",
    "mirror(\"off\") #use when z has been focused"
   ]
  },
  {
   "cell_type": "markdown",
   "metadata": {},
   "source": [
    "# Control the laser power and switch on/off the mirror"
   ]
  },
  {
   "cell_type": "code",
   "execution_count": null,
   "metadata": {},
   "outputs": [],
   "source": [
    "laser_power.power=0.01"
   ]
  },
  {
   "cell_type": "code",
   "execution_count": null,
   "metadata": {},
   "outputs": [],
   "source": [
    " # from flipper import mirror\n",
    "mirror(\"on\")\n",
    "\n",
    "# mirror(\"off\")"
   ]
  },
  {
   "cell_type": "code",
   "execution_count": null,
   "metadata": {},
   "outputs": [],
   "source": [
    " mirror(\"off\")"
   ]
  },
  {
   "cell_type": "markdown",
   "metadata": {},
   "source": [
    "# Option 1: Prepare initial Data --- Skip to Option 2"
   ]
  },
  {
   "cell_type": "code",
   "execution_count": null,
   "metadata": {},
   "outputs": [],
   "source": [
    " #Dont run, go to option 2\n",
    "power=[]\n",
    "time=[]\n",
    "pressure=[]\n",
    "gas=[]\n",
    "print(\"Enter number of initial samples: \")\n",
    "n=int(input())\n",
    "for x in range(n):\n",
    "    powr=randrange(160,2000,10) # in mW\n",
    "    tm=randrange(1050,5000,1) # in ms\n",
    "    pr=randrange(300,400,10) # in psi\n",
    "    for i in range(9):\n",
    "        power.append(powr)\n",
    "        time.append(tm)\n",
    "        pressure.append(pr)\n",
    "\n",
    "    \n",
    "from datetime import date\n",
    "\n",
    "p=str(date.today())\n",
    "# path=r'C:\\Users\\UWAdmin\\line stuff'\n",
    "import os\n",
    "# os.chdir(path)\n",
    "# os.mkdir('Campaign ' + p)\n",
    "# os.chdir('Campaign ' + p)\n",
    "row=['power','time','pressure','ratio']\n",
    "\n",
    "\n",
    "\n",
    "with open('dataset.csv', 'w', newline='') as f:\n",
    "        writer = csv.writer(f)\n",
    "        writer.writerow(row)\n",
    "        writer.writerows(zip(power,time,pressure))\n",
    "\n",
    "        \n",
    "with open('dataset-pre.csv', 'w', newline='') as f:\n",
    "        writer = csv.writer(f)\n",
    "        writer.writerow(row)\n",
    "        writer.writerows(zip(power,time,pressure))\n",
    "\n",
    "# os.chdir(path)\n",
    "\n",
    "df2=pd.read_csv('dataset.csv')\n",
    "df2=df2.drop_duplicates()\n",
    "df2.head()\n",
    "df2.to_csv('data.csv',index=False)"
   ]
  },
  {
   "cell_type": "markdown",
   "metadata": {},
   "source": [
    "# Option 2: customize your dataset"
   ]
  },
  {
   "cell_type": "code",
   "execution_count": null,
   "metadata": {},
   "outputs": [],
   "source": [
    "df=pd.DataFrame(columns=['power','time','pressure','ratio'])\n",
    "df.to_csv('data.csv',index=False)"
   ]
  },
  {
   "cell_type": "code",
   "execution_count": 17,
   "metadata": {},
   "outputs": [
    {
     "data": {
      "text/plain": [
       "'c:\\\\Users\\\\UWAdmin\\\\Documents\\\\JakeHeil\\\\Line Codes'"
      ]
     },
     "execution_count": 17,
     "metadata": {},
     "output_type": "execute_result"
    }
   ],
   "source": [
    " # os.chdir(r'C:\\Users\\UWAdmin\\line stuff')\n",
    "os.getcwd()"
   ]
  },
  {
   "cell_type": "markdown",
   "metadata": {},
   "source": [
    "# (G) Define coordinate details --- Don't use yet\n",
    "\n",
    "**Takes input for**  \n",
    "  \n",
    "-number of lines\n",
    "\n",
    "-starting position of x\n",
    "\n",
    "-starting position of y\n",
    "\n",
    "-vertical gap/step size"
   ]
  },
  {
   "cell_type": "code",
   "execution_count": null,
   "metadata": {},
   "outputs": [],
   "source": [
    "lines, start_y, step_y = 2, 7, 4\n",
    "move_y = get_move_y(lines, start_y, step_y)\n",
    "print(\"Lines will be made at following y axis:\", move_y,\"\\n\")"
   ]
  },
  {
   "cell_type": "markdown",
   "metadata": {},
   "source": [
    "## THREADING"
   ]
  },
  {
   "cell_type": "code",
   "execution_count": 18,
   "metadata": {},
   "outputs": [],
   "source": [
    "#Change this to motion_thread\n",
    "class MotionThread(Thread):\n",
    "   \n",
    "    def run(self):\n",
    "        import pandas as pd\n",
    "        d = pd.read_csv('foreward.trj',header=None) # scantime 2 (see segment 1 or row1)\n",
    "        d = d.loc[:, (d != 0).any(axis=0)] # remove last 3 cols with 0\n",
    "        d.columns = ['ramptime','rampdist','rampvel']\n",
    "        total_time=np.sum(d['ramptime'])\n",
    "        \n",
    "        if d['ramptime'][0]<0.5:\n",
    "            time.sleep(.5-d['ramptime'][0])\n",
    "        print(\"MOTION THREAD\\n\")\n",
    "        print(\"XPS run trajectory\")\n",
    "        xps.run_trajectory('foreward',)\n",
    "        print('Total time {} in class'.format(total_time))\n",
    "        time.sleep(total_time)\n",
    "        print(\"TOTAL_TIME DONE, LASER 0.05W\")\n",
    "        laser_power.power=0.01\n",
    "        print(\"finished and current position is:\\n\")\n",
    "        pos_all()\n",
    "\n",
    "#Change this to mirror_thread\n",
    "class MirrorThread(Thread):\n",
    "    \"\"\"MOTOR THREAD\"\"\"\n",
    "    def run(self):\n",
    "        import pandas as pd\n",
    "        d = pd.read_csv('foreward.trj',header=None) # scantime 2 (see segment 1 or row1)\n",
    "        d = d.loc[:, (d != 0).any(axis=0)] # remove last 3 cols with 0\n",
    "        d.columns = ['ramptime','rampdist','rampvel']\n",
    "        mirror_sleep=d['ramptime'][0]-.5\n",
    "        print(\"MIRROR THREAD\")\n",
    "        for i in range(2):\n",
    "            if i==0:\n",
    "                print(d['ramptime'][0])\n",
    "                if d['ramptime'][0]<0.5:\n",
    "                    print(\"mirror on\")\n",
    "       \n",
    "                    start_time = time.monotonic()\n",
    "                    mirror('on')\n",
    "       \n",
    "                    end_time = time.monotonic()\n",
    "                    print(timedelta(seconds=end_time - start_time))\n",
    "                    time.sleep(d['ramptime'][1]) #time for linear line    \n",
    "\n",
    "                else:\n",
    "                    print('{} > 0.5'.format(d['ramptime'][0]))\n",
    "                    print('Mirror sleep {} in class'.format(mirror_sleep))\n",
    "                    time.sleep(mirror_sleep)\n",
    "                \n",
    "                    print(\"mirror on\")\n",
    "                    start_time = time.monotonic()\n",
    "                    mirror('on')\n",
    "                    end_time = time.monotonic()\n",
    "                    print(timedelta(seconds=end_time - start_time))\n",
    "                    time.sleep(d['ramptime'][1]) #time for linear line\n",
    "            else:\n",
    "                mirror('off')\n",
    "                print(\"mirror off\")"
   ]
  },
  {
   "cell_type": "markdown",
   "metadata": {},
   "source": [
    "# Begin the experiment -----****** NOT READY YET. need to figure out how to add parameters into this rather than having random/MBO proposed params. SKIP TO SECTION (A) for now"
   ]
  },
  {
   "cell_type": "code",
   "execution_count": null,
   "metadata": {},
   "outputs": [],
   "source": [
    "col = 1\n",
    "TOTAL_LINES = len(move_y)\n",
    "steps = 0\n",
    "for move_line in range(TOTAL_LINES):\n",
    "        # print(\"For this print this is line #: \",move_line)\n",
    "        # print(\"Experiment Line number: \" ,move_line)\n",
    "        \n",
    "        save_line = col*TOTAL_LINES + move_line\n",
    "        steps = save_line * 9\n",
    "        print (f\"before: {move_line}, {save_line}, {steps}\")\n",
    "        \n",
    "        # print (f\"after : {move_line}, {save_line}, {steps}\")"
   ]
  },
  {
   "cell_type": "code",
   "execution_count": null,
   "metadata": {},
   "outputs": [],
   "source": [
    "def main_experiment(startx: float, move_y: list, col: int) -> None:\n",
    "    \"\"\"Starts the experiment. Currently works ok with equal length of col1 and col2 lines.\n",
    "       startx: Starting position on the x-axis\n",
    "       starty: Starting position on the y-axis\n",
    "       step_y: The distance between lines on the y-axis\n",
    "       move_y: List of positions on the y-axis\n",
    "       col_no: Defines the column number\"\"\"\n",
    "\n",
    "    # line_name_start = col_no*len(move_y) #0,1,   # What the first line # will be named\n",
    "    # line_name_end = line_name_start + len(move_y) #What the last line # will be named\n",
    "    \n",
    "    import pandas as pd\n",
    "    print(f'LOADING DATA.CSV FOR COLUMN: {col}') \n",
    "    df2 = pd.read_csv('data.csv')   # to avoid pd referenced before assignment\n",
    "    print (df2)\n",
    "    \n",
    "    print(\"EXPERIMENT IS STARTING\\n\")\n",
    "    import time\n",
    "    time.sleep(5)\n",
    "    _MIRROR_MOVE_TIME = .5\n",
    "    _LINE_LENGTH = 2\n",
    "    VACUUM_TIME = 0.5 # in minutes\n",
    "\n",
    "    #set this to zero!!!!!!!\n",
    "    #starting_line = 4\n",
    "    STARTING_LINE = 0\n",
    "    _SPOTS_MEASURED = 9\n",
    "    TOTAL_LINES = len(move_y) #+STARTING_LINE\n",
    "    RANDOM_LINES = 7\n",
    "    TARGET = 'GD'\n",
    "\n",
    "    print(f\"Here's the number of total lines:{TOTAL_LINES}\")\n",
    "    \n",
    "    for move_line in range(STARTING_LINE,TOTAL_LINES):\n",
    "        print(f\"====== MOVE LINE: {move_line} ======\")\n",
    "        \n",
    "        save_line = col * TOTAL_LINES + move_line\n",
    "        steps = save_line * _SPOTS_MEASURED\n",
    "        print(f\"====== SAVE LINE: {save_line} ======\")\n",
    "\n",
    "        # move the axes to their start position\n",
    "        xps.move_stage('XYZ.Y',move_y[move_line])\n",
    "        pos_all()\n",
    "        print(\"\\n\\n\")\n",
    "        df2 = pd.read_csv('data.csv')\n",
    "        plot_data_df = pd.read_csv('plot_data.csv')\n",
    "        print(f\"\\n data.csv file before index {save_line}:\\n\")\n",
    "        print(df2)\n",
    "        print(f\"\\n plot_data.csv file before index {save_line}:\\n\")\n",
    "        print(plot_data_df,'\\n')\n",
    "        # line = df2['ratio'].count() #find in data.csv what line number we're on\n",
    "        \n",
    "        # set time\n",
    "        time_of_file = df2['time'][save_line]\n",
    "        print(f\"\\nCurrent patterning time is: {time_of_file} ms\")\n",
    "\n",
    "        # vacuum-infill\n",
    "        print(\"Vacuum-infill in progress...\")\n",
    "        # t = 1 # in minutes\n",
    "        to_ambient()\n",
    "        print(f\"1st ambient: {current_pressure()}\")\n",
    "        time.sleep(1)\n",
    "        to_ambient()\n",
    "        print(f\"2nd ambient: {current_pressure()}\")\n",
    "        time.sleep(1)\n",
    "        to_ambient()\n",
    "        print(f\"3rd ambient: {current_pressure()}\")\n",
    "        time.sleep(5)\n",
    "        to_vacuum(VACUUM_TIME)\n",
    "        print(f\"1st vac: {current_pressure()}\")\n",
    "        time.sleep(5)\n",
    "        quick_fill()\n",
    "        print(f\"After quick_fill: {current_pressure()}\")\n",
    "        time.sleep(1)\n",
    "        to_ambient()\n",
    "        print(f\"3rd ambient: {current_pressure()}\")\n",
    "        time.sleep(2)\n",
    "        to_vacuum(VACUUM_TIME)\n",
    "        time.sleep(5)\n",
    "        print(f\"2nd vac : {current_pressure()}\")\n",
    "        \n",
    "        # set pressure\n",
    "        pressure_of_file=df2['pressure'][save_line]\n",
    "        for j in range(3):\n",
    "            gopr(pressure_of_file)\n",
    "            close_all()\n",
    "            time.sleep(5)\n",
    "        print(f\"\\n Pressure is now :{pressure_of_file}\\n\")\n",
    "\n",
    "        xps.define_line_trajectories(start=float(startx),\n",
    "                                 stop=float(startx)+_LINE_LENGTH,\n",
    "                                 step=0.01,\n",
    "                                 scantime=(time_of_file/1000),\n",
    "                                 axis='X')\n",
    "        # downloads trajectory defined above\n",
    "        xps.download_trajectory('foreward.trj')\n",
    "        import pandas as pd\n",
    "        d = pd.read_csv('foreward.trj', header=None) # scantime 2 (see segment 1 or row1)\n",
    "        d = d.loc[:, (d != 0).any(axis=0)] # remove last 3 cols with 0\n",
    "        d.columns = ['ramptime','rampdist','rampvel']\n",
    "        print(d)\n",
    "\n",
    "        total_time = np.sum(d['ramptime'])\n",
    "        mirror_sleep = d['ramptime'][0] - _MIRROR_MOVE_TIME\n",
    "        print(f'Total time: {total_time}, Mirror_sleep: {mirror_sleep} in MAIN')\n",
    "\n",
    "        # power will be set to assigned value, make sure mirror is OFF (!) \\\n",
    "        # and power is given enough time to reach it's value\n",
    "\n",
    "        power_of_file = df2[\"power\"][save_line]\n",
    "\n",
    "# PATTERN EXPERIMENT\n",
    "\n",
    "        print(\"Power is now: {} mW\".format(power_of_file))\n",
    "        xps.move_stage('XYZ.X',(float(startx) - d['rampdist'][0]))\n",
    "        pos_all()\n",
    "        time.sleep(15)\n",
    "        print(\"\\n\\n\")\n",
    "        mirror(\"off\")\n",
    "        a=power_of_file\n",
    "        #laser_power.power=((a-5.7488)/0.138859)/1000\n",
    "        laser_power.power = (a/0.0994)/1000\n",
    "        time.sleep(15)\n",
    "        \n",
    "        \n",
    "        print(\"###### Starting pattern in 5 seconds! #########\")\n",
    "        ##Draw Lines\n",
    "        time.sleep(10)\n",
    "        \n",
    "        import sys\n",
    "        motion_thread=MotionThread() # MOTION THREAD\n",
    "        mirror_thread=MirrorThread() # MIRROR THREAD\n",
    "        # stop_threads = False\n",
    "        motion_thread.start()\n",
    "        mirror_thread.start()\n",
    "\n",
    "        motion_thread.join()\n",
    "        mirror_thread.join()\n",
    "\n",
    "        time.sleep(10)\n",
    "        print(\"\\n Job done\\n\")\n",
    "\n",
    "        ##raman spectra analysis\n",
    "        laser_power.power=0.01\n",
    "        time.sleep(15)\n",
    "\n",
    "    ########################################\n",
    "\n",
    "    # post patterning raman analysis\n",
    "\n",
    "        check=[float(startx) + .2*_LINE_LENGTH, \\\n",
    "                float(startx) + .4*_LINE_LENGTH, \\\n",
    "                float(startx) + .6*_LINE_LENGTH]\n",
    "        # mm=0\n",
    "        for spot in range(3):\n",
    "            print(f\"############### SPOT {spot} ##################\")\n",
    "            xps.move_stage('XYZ.X',check[spot])\n",
    "            print(pos_all())\n",
    "\n",
    "            for iii in range(3):\n",
    "                print(f\"############# iteration {iii} ###############\")\n",
    "                mirror(\"on\")\n",
    "                #writing G/D of 3 spots in 3 lines inside dataset.csv\n",
    "        #         capture_photo(\"on\",spot,line)\n",
    "                print(f\"Measuring patterned line for {TARGET}\")\n",
    "                GD = capture_photo(\"on\", spot, save_line, iii, target=TARGET)\n",
    "\n",
    "                mirror(\"off\")\n",
    "                time.sleep(5) \n",
    "\n",
    "        if save_line <= RANDOM_LINES-1:\n",
    "            print(f\"############# LINE {save_line} <= 3, CURRENT_STEP={steps}, TAKING MEAN: #############\")\n",
    "           take_mean(steps, save_line)     "
   ]
  },
  {
   "cell_type": "markdown",
   "metadata": {},
   "source": [
    "## Section (A) : Insert line number, parameters for the line and then define the line coordinate details"
   ]
  },
  {
   "cell_type": "code",
   "execution_count": 33,
   "metadata": {},
   "outputs": [],
   "source": [
    "path = Path(r'c:\\\\Users\\\\UWAdmin\\\\Documents\\\\JakeHeil\\\\Campaigns\\\\TiO2_Capacitors\\\\Sample1')"
   ]
  },
  {
   "cell_type": "code",
   "execution_count": 39,
   "metadata": {},
   "outputs": [
    {
     "name": "stdout",
     "output_type": "stream",
     "text": [
      "Enter Line Number: \n",
      "Enter your power, time, pressure for line number  0\n"
     ]
    }
   ],
   "source": [
    "campaign_path = path / \"Bottom_layer_Line1\"\n",
    "os.chdir(campaign_path)\n",
    "\n",
    "#os.chdir(r'C:\\Users\\UWAdmin\\line stuff')\n",
    "from fits import new_plot_LIG\n",
    "\n",
    "#Please remember indexing begins from 0.\n",
    "\n",
    "df=pd.read_csv('data.csv')\n",
    "print(\"Enter Line Number: \")\n",
    "#line_no=int(input())\n",
    "line_no=int(input())\n",
    "\n",
    "print(\"Enter your power, time, pressure for line number \", line_no)\n",
    "powr,tm,pr=input().split()\n",
    "\n",
    "df.loc[line_no,'power']=powr\n",
    "df.loc[line_no,'time']=tm\n",
    "df.loc[line_no,'pressure']=pr\n",
    "\n",
    "df.to_csv('data.csv',index=False)\n",
    "\n",
    "\n",
    "power=[]\n",
    "time=[]\n",
    "pressure=[]\n",
    "for i in range(9):\n",
    "        power.append(powr)\n",
    "        time.append(tm)\n",
    "        pressure.append(pr)\n",
    "\n",
    "row=['power','time','pressure','ratio']\n",
    "with open('dataset.csv', 'a', newline='') as f:\n",
    "        writer = csv.writer(f)\n",
    "        if line_no==0:writer.writerow(row)\n",
    "        writer.writerows(zip(power,time,pressure))\n",
    "\n",
    "        \n",
    "with open('dataset-pre.csv', 'a', newline='') as f:\n",
    "        writer = csv.writer(f)\n",
    "        if line_no==0:writer.writerow(row)\n",
    "        writer.writerows(zip(power,time,pressure))"
   ]
  },
  {
   "cell_type": "markdown",
   "metadata": {},
   "source": [
    "# Section (B) : Positional Parameters for Line"
   ]
  },
  {
   "cell_type": "code",
   "execution_count": 40,
   "metadata": {},
   "outputs": [
    {
     "name": "stdout",
     "output_type": "stream",
     "text": [
      "Enter number of lines, starting point for x axis, y axis and step size for y axis:\n",
      "1 2.5 11 1\n",
      "Lines will be made at following y axis: 11.0 \n",
      "\n"
     ]
    }
   ],
   "source": [
    "\n",
    "print(\"Enter number of lines, starting point for x axis, y axis and step size for y axis:\")\n",
    "\n",
    "\n",
    "#lines,startx,starty,step_y= [x for x in input().split()]\n",
    "lines,startx,starty,step_y = [1,2.5,11,1]\n",
    "print(lines,startx,starty,step_y)\n",
    "# move_y=[0 for i in range(int(lines))]\n",
    "\n",
    "move_y=float(starty)\n",
    "\n",
    "print(\"Lines will be made at following y axis:\",move_y,\"\\n\")\n",
    "\n"
   ]
  },
  {
   "cell_type": "markdown",
   "metadata": {},
   "source": [
    "# Section (C) : Pattern LIG Line"
   ]
  },
  {
   "cell_type": "code",
   "execution_count": 41,
   "metadata": {},
   "outputs": [
    {
     "name": "stdout",
     "output_type": "stream",
     "text": [
      "Patterning is to be started\n",
      "\n",
      "Line number:  0\n",
      "XYZ.X: 4.999992003\n",
      "XYZ.Y: 11.000000106\n",
      "XYZ.Z: 1.9499959962\n",
      "\n",
      "\n",
      "\n",
      "\n",
      "Current time is: 5000\n",
      "done\n",
      "done\n",
      "done\n",
      "done\n",
      "done\n",
      "\n",
      " Pressure is now :  120 \n",
      "\n",
      "   ramptime  rampdist  rampvel\n",
      "0      0.60      0.60      1.0\n",
      "1      5.01      5.01      1.0\n",
      "2      0.60      0.60      0.0\n",
      "power is now: 380\n",
      "XYZ.X: 1.9003137804\n",
      "XYZ.Y: 11.000000106\n",
      "XYZ.Z: 1.9499959962\n",
      "\n",
      "\n",
      "\n",
      "MIRROR DOWN\n",
      "patterning!\n",
      "a started\n",
      "b started\n",
      "MOTION THREAD\n",
      "\n",
      "XPS run trajectory\n",
      "MIRROR THREAD\n",
      "0.6\n",
      "0.6 > 0.5\n",
      "Mirror sleep 0.09999999999999998 in class\n",
      "mirror on\n",
      "MIRROR UP\n",
      "0:00:00.282000\n",
      "MIRROR DOWN\n",
      "mirror off\n",
      "Total time 6.209999999999999 in class\n",
      "TOTAL_TIME DONE, LASER 0.05W\n",
      "finished and current position is:\n",
      "\n",
      "XYZ.X: 8.1099889758\n",
      "XYZ.Y: 11.000000106\n",
      "XYZ.Z: 1.9499959962\n",
      "a joined\n",
      "b joined\n",
      "\n",
      " Line drawn - END\n",
      "\n"
     ]
    }
   ],
   "source": [
    "df2=pd.read_csv('data.csv')\n",
    "print(\"Patterning is to be started\\n\")\n",
    "import time\n",
    "time.sleep(5)\n",
    "cc=0\n",
    "steps=0\n",
    "\n",
    "for i in range(line_no,line_no+1):\n",
    "    print(\"Line number: \",i) # row idx in data.csv\n",
    "    current_line=i\n",
    "    laser_power.power=0.01\n",
    "    \n",
    "    #move the axes to their start position\n",
    "    xps.move_stage('XYZ.Y',move_y)\n",
    "    pos_all()\n",
    "    print(\"\\n\\n\")\n",
    "    df2=pd.read_csv('data.csv')\n",
    "    time_of_file=df2['time'][i]\n",
    "    #scantime=time_of_file/1000\n",
    "    \n",
    "    #define the trajectory\n",
    "    length = 5 # Change number to alter line length (length is in mm)\n",
    "    xps.define_line_trajectories(start=float(startx),\n",
    "                             stop=float(startx)+length, \n",
    "                             step=0.01,\n",
    "                             scantime=(time_of_file/1000),\n",
    "                             axis='X') # Pos1\n",
    "    \n",
    "    print(\"\\nCurrent time is:\",time_of_file)\n",
    "        \n",
    "    pressure_of_file=df2['pressure'][i]\n",
    "    for ip in range(5):gopr(pressure_of_file)\n",
    "\n",
    "    print(\"\\n Pressure is now : \",pressure_of_file,\"\\n\")\n",
    "    \n",
    "#     k+=3\n",
    "    xps.download_trajectory('foreward.trj')\n",
    "    import pandas as pd\n",
    "    d = pd.read_csv('foreward.trj',header=None) # scantime 2 (see segment 1 or row1)\n",
    "    d = d.loc[:, (d != 0).any(axis=0)]\n",
    "    d.columns = ['ramptime','rampdist','rampvel']\n",
    "\n",
    "    total_time=np.sum(d['ramptime'])\n",
    "    mirror_sleep=d['ramptime'][0]-.5\n",
    "    \n",
    "    print(d)\n",
    "    \n",
    "    \n",
    "    #power will be set to assigned value and make sure mirror is off and power is given enough time to reach it's value\n",
    "    power_of_file=df2[\"power\"][i]\n",
    "#     ij=3 # wtf is this\n",
    "\n",
    "##################\n",
    "\n",
    "#     print(\"pre-pattern checking\\n\")\n",
    " #   check=[(float(startx)+.4),float(startx)+.8,(float(startx)+1.2)]\n",
    "#     a=0.19 # what is this \n",
    "#     check=[ float(startx)+(a*i)+0.1 for i in range(10)]\n",
    "\n",
    "#     check=[float(startx)+length/10*i for i in range(1,10)]\n",
    "#     mm=0\n",
    "#     for kk in range(3):\n",
    "#         xps.move_stage('XYZ.Pos1',check[kk])\n",
    "#         print(pos_all())\n",
    "        \n",
    "#         for iii in range(3):\n",
    "#             mirror(\"on\")\n",
    "#             #writing G/D of 3 spots in 3 lines inside dataset.csv\n",
    "#     #         capture_photo(\"on\",kk,line)\n",
    "#             print(\"hey\")\n",
    "#             GD=capture_photo(\"first\",kk,line,iii)\n",
    "\n",
    "#             mirror(\"off\")\n",
    "#             time.sleep(5)\n",
    "    \n",
    " \n",
    "############### \n",
    "\n",
    "#     print(\"pre-pattern checking done\\n\")\n",
    "    print(\"power is now:\",power_of_file)\n",
    "\n",
    "    xps.move_stage('XYZ.X',(float(startx)-d['rampdist'][0]))\n",
    "    pos_all()\n",
    "    time.sleep(15)\n",
    "    print(\"\\n\\n\")\n",
    "    mirror(\"off\")\n",
    "    pp=power_of_file\n",
    "#    laser_power.power=(0.5178*a-5.2215)/1000\n",
    "#    laser_power.power=((a+5.2215)/0.5178)/1000\n",
    "#    laser_power.power=((pp+21.167)/0.1013)/1000\n",
    "    laser_power.power=((pp-5.7488)/0.138859)/1000\n",
    "    \n",
    "    time.sleep(15)\n",
    "    \n",
    "    ##Draw Lines\n",
    "    time.sleep(5)\n",
    "    \n",
    "    print(\"patterning!\")\n",
    "    import sys\n",
    "    motion_thread=MotionThread()\n",
    "    mirror_thread=MirrorThread()\n",
    "    # stop_threads = False\n",
    "    motion_thread.start()\n",
    "    print('a started')\n",
    "    mirror_thread.start()\n",
    "    print('b started')\n",
    "    \n",
    "    \n",
    "    motion_thread.join()\n",
    "    print('a joined')\n",
    "    mirror_thread.join()\n",
    "    print('b joined')\n",
    "    \n",
    "    time.sleep(10)\n",
    "    print(\"\\n Line drawn - END\\n\")\n",
    "    \n",
    "    \n",
    "    \n",
    "    ##raman spectra analysis\n",
    "    laser_power.power=0.01\n",
    "    time.sleep(15)\n",
    "    \n",
    "#     print(\"line drawn, post-pattern not done yet\")\n"
   ]
  },
  {
   "cell_type": "code",
   "execution_count": 46,
   "metadata": {},
   "outputs": [
    {
     "data": {
      "text/plain": [
       "['line 0 Point 0 iteration 0 foreground1D.csv',\n",
       " 'line 0 Point 0 iteration 0 foreground2D.csv']"
      ]
     },
     "execution_count": 46,
     "metadata": {},
     "output_type": "execute_result"
    }
   ],
   "source": [
    " #Dont run\n",
    "i=0\n",
    "one=[]\n",
    "file=[]\n",
    "bg=[]\n",
    "fit=[]\n",
    "\n",
    "a=\"line \"\n",
    "b=str(i)+\"*.csv\"\n",
    "c=a+b\n",
    "for file in glob.glob(c):one.append(f\"{file}\")\n",
    "for file in glob.glob(\"background*.csv\"):bg.append(f\"{file}\")  \n",
    "\n",
    "one"
   ]
  },
  {
   "cell_type": "code",
   "execution_count": null,
   "metadata": {},
   "outputs": [],
   "source": [
    " #Dont run\n",
    "import pandas as pd\n",
    "from fits import new_plot_LIG\n",
    "\n",
    "increment=0\n",
    "line_number=i\n",
    "for ix in range(int(len(one)/2)):\n",
    "    d1 = pd.read_csv(one[increment])\n",
    "    d2 = pd.read_csv(one[increment+1])\n",
    "    _d1 = pd.read_csv(bg[0])\n",
    "    _d2 = pd.read_csv(bg[1])\n",
    "    increment+=2\n",
    "    f=new_plot_LIG(d1,d2,_d1,_d2, ix, 0, line_number) # ix - Point; iteration=0 ; \n",
    "    print(ix)\n",
    "    fit.append(f) "
   ]
  },
  {
   "cell_type": "code",
   "execution_count": 55,
   "metadata": {},
   "outputs": [
    {
     "data": {
      "text/plain": [
       "'c:\\\\Users\\\\UWAdmin\\\\Documents\\\\JakeHeil\\\\Campaigns\\\\TiO2_Capacitors\\\\Sample1\\\\Bottom_layer_Line1'"
      ]
     },
     "execution_count": 55,
     "metadata": {},
     "output_type": "execute_result"
    }
   ],
   "source": [
    " os.getcwd()"
   ]
  },
  {
   "cell_type": "code",
   "execution_count": 60,
   "metadata": {},
   "outputs": [],
   "source": [
    " from spectra import *\n",
    " from spectra import capture_photo #import spectrometer codes"
   ]
  },
  {
   "cell_type": "code",
   "execution_count": null,
   "metadata": {},
   "outputs": [],
   "source": [
    "#path = Path(r'C:\\Users\\UWAdmin\\Documents\\JakeHeil\\Campaigns\\TiO2_Capacitors\\Sample1')"
   ]
  },
  {
   "cell_type": "code",
   "execution_count": 69,
   "metadata": {
    "scrolled": false
   },
   "outputs": [
    {
     "name": "stdout",
     "output_type": "stream",
     "text": [
      "line drawn, post pattern starts\n",
      "XYZ.X: 2.9999952018\n",
      "XYZ.Y: 11.000000106\n",
      "XYZ.Z: 1.9499959962\n",
      "None\n",
      "MIRROR UP\n",
      "post patterning...\n",
      "Running before\n",
      " >>>> measuring line: 0 spot: 0, iteration: 0 @ 1D region <<<<\n",
      " \n",
      " >>>> measuring line: 0 spot: 0, iteration: 0 @ 2D region <<<<\n",
      " \n",
      "Extracting GD to dataset.csv\n",
      "Running after\n",
      "MIRROR DOWN\n",
      "MIRROR UP\n",
      "post patterning...\n",
      "Running before\n",
      " >>>> measuring line: 0 spot: 0, iteration: 1 @ 1D region <<<<\n",
      " \n",
      " >>>> measuring line: 0 spot: 0, iteration: 1 @ 2D region <<<<\n",
      " \n",
      "Extracting GD to dataset.csv\n",
      "Running after\n",
      "MIRROR DOWN\n",
      "MIRROR UP\n",
      "post patterning...\n",
      "Running before\n",
      " >>>> measuring line: 0 spot: 0, iteration: 2 @ 1D region <<<<\n",
      " \n",
      " >>>> measuring line: 0 spot: 0, iteration: 2 @ 2D region <<<<\n",
      " \n",
      "Extracting GD to dataset.csv\n",
      "Running after\n",
      "MIRROR DOWN\n",
      "XYZ.X: 3.4997731596\n",
      "XYZ.Y: 11.000000106\n",
      "XYZ.Z: 1.9499959962\n",
      "None\n",
      "MIRROR UP\n",
      "post patterning...\n",
      "Running before\n",
      " >>>> measuring line: 0 spot: 1, iteration: 0 @ 1D region <<<<\n",
      " \n",
      " >>>> measuring line: 0 spot: 1, iteration: 0 @ 2D region <<<<\n",
      " \n",
      "Extracting GD to dataset.csv\n",
      "Running after\n",
      "MIRROR DOWN\n",
      "MIRROR UP\n",
      "post patterning...\n",
      "Running before\n",
      " >>>> measuring line: 0 spot: 1, iteration: 1 @ 1D region <<<<\n",
      " \n",
      " >>>> measuring line: 0 spot: 1, iteration: 1 @ 2D region <<<<\n",
      " \n",
      "Extracting GD to dataset.csv\n",
      "Running after\n",
      "MIRROR DOWN\n",
      "MIRROR UP\n",
      "post patterning...\n",
      "Running before\n",
      " >>>> measuring line: 0 spot: 1, iteration: 2 @ 1D region <<<<\n",
      " \n",
      " >>>> measuring line: 0 spot: 1, iteration: 2 @ 2D region <<<<\n",
      " \n",
      "Extracting GD to dataset.csv\n",
      "Running after\n",
      "MIRROR DOWN\n",
      "XYZ.X: 3.9997458108\n",
      "XYZ.Y: 11.000000106\n",
      "XYZ.Z: 1.9499959962\n",
      "None\n",
      "MIRROR UP\n",
      "post patterning...\n",
      "Running before\n",
      " >>>> measuring line: 0 spot: 2, iteration: 0 @ 1D region <<<<\n",
      " \n",
      " >>>> measuring line: 0 spot: 2, iteration: 0 @ 2D region <<<<\n",
      " \n",
      "Extracting GD to dataset.csv\n",
      "Running after\n",
      "MIRROR DOWN\n",
      "MIRROR UP\n",
      "post patterning...\n",
      "Running before\n",
      " >>>> measuring line: 0 spot: 2, iteration: 1 @ 1D region <<<<\n",
      " \n",
      " >>>> measuring line: 0 spot: 2, iteration: 1 @ 2D region <<<<\n",
      " \n",
      "Extracting GD to dataset.csv\n",
      "Running after\n",
      "MIRROR DOWN\n",
      "MIRROR UP\n",
      "post patterning...\n",
      "Running before\n",
      " >>>> measuring line: 0 spot: 2, iteration: 2 @ 1D region <<<<\n",
      " \n",
      " >>>> measuring line: 0 spot: 2, iteration: 2 @ 2D region <<<<\n",
      " \n",
      "Extracting GD to dataset.csv\n",
      "Running after\n",
      "MIRROR DOWN\n",
      "30\n",
      "Populating the interactive namespace from numpy and matplotlib\n"
     ]
    },
    {
     "name": "stderr",
     "output_type": "stream",
     "text": [
      "c:\\Users\\UWAdmin\\Anaconda3\\lib\\site-packages\\IPython\\core\\magics\\pylab.py:160: UserWarning: pylab import has clobbered these variables: ['f']\n",
      "`%matplotlib` prevents importing * from pylab and numpy\n",
      "  \"\\n`%matplotlib` prevents importing * from pylab and numpy\"\n"
     ]
    },
    {
     "name": "stdout",
     "output_type": "stream",
     "text": [
      "0\n",
      "Populating the interactive namespace from numpy and matplotlib\n",
      "1\n",
      "Populating the interactive namespace from numpy and matplotlib\n",
      "2\n",
      "Populating the interactive namespace from numpy and matplotlib\n",
      "3\n",
      "Populating the interactive namespace from numpy and matplotlib\n",
      "4\n",
      "Populating the interactive namespace from numpy and matplotlib\n",
      "5\n",
      "Populating the interactive namespace from numpy and matplotlib\n",
      "6\n",
      "Populating the interactive namespace from numpy and matplotlib\n",
      "7\n",
      "Populating the interactive namespace from numpy and matplotlib\n",
      "8\n",
      "Populating the interactive namespace from numpy and matplotlib\n",
      "9\n",
      "Populating the interactive namespace from numpy and matplotlib\n",
      "10\n",
      "Populating the interactive namespace from numpy and matplotlib\n",
      "11\n",
      "Populating the interactive namespace from numpy and matplotlib\n",
      "12\n",
      "Populating the interactive namespace from numpy and matplotlib\n",
      "13\n",
      "Populating the interactive namespace from numpy and matplotlib\n",
      "14\n",
      "done\n"
     ]
    },
    {
     "data": {
      "image/png": "[encoded data removed]",
      "text/plain": [
       "<Figure size 432x288 with 2 Axes>"
      ]
     },
     "metadata": {
      "needs_background": "light"
     },
     "output_type": "display_data"
    }
   ],
   "source": [
    "#campaign_path = path / \"Bottom_layer_Line1\"\n",
    "#os.chdir(campaign_path)\n",
    "\n",
    "print(\"line drawn, post pattern starts\")\n",
    "# check=[(float(startx)+2),float(startx)+4,(float(startx)+6)]\n",
    "length=5\n",
    "check=[float(startx)+length/10*i for i in range(1,10)]\n",
    "\n",
    "for spot in range(3):\n",
    "    #spot is for incrementing index\n",
    "    \n",
    "    xps.move_stage('XYZ.X',check[spot])\n",
    "    print(pos_all())\n",
    "\n",
    "    for iii in range(3):\n",
    "        mirror(\"on\")\n",
    "        #writing G/D of 3 spots in 3 lines inside dataset.csv\n",
    "#         capture_photo(\"on\",spot,line)\n",
    "        print(\"post patterning...\")\n",
    "        print(\"Running before\")\n",
    "        GD=capture_photo(\"on\",spot,line,iii)\n",
    "        print(\"Running after\")\n",
    "\n",
    "        mirror(\"off\")\n",
    "        time.sleep(5)     \n",
    "        \n",
    "\n",
    " ### The following code saves spectra by reading the csv files. \n",
    " ### For example: if current line number is 3, following codes will find the csvs that start with \" line 0 ...\" and will  \n",
    " ### save raman spectra for all the files whose name starts with line 0        \n",
    "        \n",
    "import glob\n",
    "import pandas as pd\n",
    "\n",
    "\n",
    "one=[]\n",
    "bg=[]\n",
    "fit=[]\n",
    "\n",
    "\n",
    "a=\"line \"\n",
    "b=str(i)+\"*.csv\"\n",
    "c=a+b\n",
    "for file in glob.glob(c):one.append(f\"{file}\")\n",
    "for file in glob.glob(\"background*.csv\"):bg.append(f\"{file}\")    \n",
    "print(len(one))\n",
    "\n",
    "###################### Gets average from dataset.csv and inserts into data.csv\n",
    "filled_cols = [0]\n",
    "TOTAL_LINES = 1\n",
    "SPOTS_MEASURED = 9\n",
    "\n",
    "for col in filled_cols:\n",
    "    for move_line in range(TOTAL_LINES):\n",
    "        save_line = col*TOTAL_LINES + move_line\n",
    "        steps = save_line * SPOTS_MEASURED\n",
    "        # get_mean(steps, save_line, spots_measured = SPOTS_MEASURED, target='ratio')\n",
    "        get_mean(steps, save_line, spots_measured = SPOTS_MEASURED, target='ratio')\n",
    "        print (f\"before: {move_line}, {save_line}, {steps}\")\n",
    "\n",
    "increment=0\n",
    "line_number=i\n",
    "for ix in range(int(len(one)/2)):\n",
    "    d1 = pd.read_csv(one[increment])\n",
    "    d2 = pd.read_csv(one[increment+1])\n",
    "    _d1 = pd.read_csv(bg[0])\n",
    "    _d2 = pd.read_csv(bg[1])\n",
    "    increment+=2\n",
    "    f=new_plot_LIG(d1,d2,_d1,_d2, ix, 0, line_number)\n",
    "    print(ix)\n",
    "    fit.append(f)\n",
    "\n",
    "    \n",
    "    \n",
    "print(\"done\")"
   ]
  },
  {
   "cell_type": "code",
   "execution_count": 73,
   "metadata": {},
   "outputs": [
    {
     "name": "stdout",
     "output_type": "stream",
     "text": [
      "c:\\Users\\UWAdmin\\Documents\\JakeHeil\\Campaigns\\TiO2_Capacitors\\Sample1\\Bottom_layer_Line1\n",
      "Filling nans with 0\n",
      "saving mean 4.785232736888889 to data.csv\n",
      "before: 0, 0, 0\n"
     ]
    }
   ],
   "source": [
    "# TODO: double-check cols pair are correct and correspond to filled dataset, else overwrite possible\n",
    "filled_cols = [0]\n",
    "TOTAL_LINES = 1\n",
    "SPOTS_MEASURED = 9\n",
    "\n",
    "for col in filled_cols:\n",
    "    for move_line in range(TOTAL_LINES):\n",
    "        save_line = col*TOTAL_LINES + move_line\n",
    "        steps = save_line * SPOTS_MEASURED\n",
    "        # get_mean(steps, save_line, spots_measured = SPOTS_MEASURED, target='ratio')\n",
    "        get_mean(steps, save_line, spots_measured = SPOTS_MEASURED, target='ratio')\n",
    "        print (f\"before: {move_line}, {save_line}, {steps}\")"
   ]
  },
  {
   "cell_type": "code",
   "execution_count": null,
   "metadata": {},
   "outputs": [],
   "source": [
    "laser_power.write(\"OPMODE=Off\")"
   ]
  },
  {
   "cell_type": "code",
   "execution_count": null,
   "metadata": {},
   "outputs": [],
   "source": [
    "laser_power.write(\"OPMODE=On\")"
   ]
  },
  {
   "cell_type": "code",
   "execution_count": null,
   "metadata": {},
   "outputs": [],
   "source": [
    "to_ambient()"
   ]
  },
  {
   "cell_type": "code",
   "execution_count": null,
   "metadata": {},
   "outputs": [],
   "source": [
    "mirror(\"off\")"
   ]
  },
  {
   "cell_type": "code",
   "execution_count": null,
   "metadata": {},
   "outputs": [],
   "source": [
    "mirror(\"on\")"
   ]
  },
  {
   "cell_type": "code",
   "execution_count": null,
   "metadata": {},
   "outputs": [],
   "source": [
    "\n",
    "# power_of_file=df2[\"power\"][i]\n",
    "ij=3\n",
    "laser_power.power=0.01\n",
    "power_of_file=380\n",
    "print(\"power is now:\",power_of_file)\n",
    "xps.move_stage('XYZ.X',(float(startx)-d['rampdist'][0]))\n",
    "pos_all()\n",
    "time.sleep(15)\n",
    "print(\"\\n\\n\")\n",
    "mirror(\"off\")\n",
    "a=power_of_file\n",
    "laser_power.power=(0.5178*a-5.2215)/1000"
   ]
  },
  {
   "cell_type": "code",
   "execution_count": null,
   "metadata": {},
   "outputs": [],
   "source": [
    "In[135]"
   ]
  },
  {
   "cell_type": "code",
   "execution_count": null,
   "metadata": {},
   "outputs": [],
   "source": [
    "mirror(\"off\")"
   ]
  },
  {
   "cell_type": "code",
   "execution_count": null,
   "metadata": {},
   "outputs": [],
   "source": [
    "pos_all()"
   ]
  },
  {
   "cell_type": "code",
   "execution_count": null,
   "metadata": {},
   "outputs": [],
   "source": [
    "mv=float(mv)\n",
    "type(mv)"
   ]
  },
  {
   "cell_type": "code",
   "execution_count": null,
   "metadata": {},
   "outputs": [],
   "source": [
    "# rsum=robjects.r['sourin']\n",
    "# rsum((1))\n",
    "write_more()\n",
    "repeats()"
   ]
  },
  {
   "cell_type": "code",
   "execution_count": null,
   "metadata": {},
   "outputs": [],
   "source": [
    "os.getcwd()"
   ]
  },
  {
   "cell_type": "code",
   "execution_count": null,
   "metadata": {},
   "outputs": [],
   "source": [
    "def write_more():\n",
    "    d=pd.read_csv('data.csv')\n",
    "    ln=d.shape[0]\n",
    "\n",
    "    vpower=d['power'][ln-1]\n",
    "    vtime=d['time'][ln-1]\n",
    "    vpressure=d['pressure'][ln-1]\n",
    "\n",
    "    d1=pd.read_csv('dataset.csv')\n",
    "    ln=d1.shape[0]\n",
    "    d1.loc[ln,\"power\"]=vpower\n",
    "    d1.loc[ln,\"time\"]=vtime\n",
    "    d1.loc[ln,\"pressure\"]=vpressure\n",
    "    d1.to_csv('dataset.csv',index=False)\n",
    "    d1.to_csv('dataset-pre.csv',index=False)"
   ]
  },
  {
   "cell_type": "code",
   "execution_count": null,
   "metadata": {},
   "outputs": [],
   "source": [
    "time_of_file=8554/1000\n",
    "xps.define_line_trajectories(start=float(startx),\n",
    "                             stop=float(startx)+2,\n",
    "                             step=0.01,\n",
    "                             scantime=time_of_file,\n",
    "                             axis='X') # Pos1\n",
    "\n",
    "xps.download_trajectory('foreward.trj')\n",
    "import pandas as pd\n",
    "d = pd.read_csv('foreward.trj',header=None) # scantime 2 (see segment 1 or row1)\n",
    "d = d.loc[:, (d != 0).any(axis=0)]\n",
    "d.columns = ['ramptime','rampdist','rampvel']\n",
    "\n",
    "d"
   ]
  },
  {
   "cell_type": "code",
   "execution_count": 45,
   "metadata": {},
   "outputs": [
    {
     "name": "stdout",
     "output_type": "stream",
     "text": [
      "2\n"
     ]
    },
    {
     "ename": "TypeError",
     "evalue": "new_plot_LIG() missing 1 required positional argument: 'line_number'",
     "output_type": "error",
     "traceback": [
      "\u001b[1;31m---------------------------------------------------------------------------\u001b[0m",
      "\u001b[1;31mTypeError\u001b[0m                                 Traceback (most recent call last)",
      "\u001b[1;32m<ipython-input-45-9098afa82547>\u001b[0m in \u001b[0;36m<module>\u001b[1;34m\u001b[0m\n\u001b[0;32m     23\u001b[0m     \u001b[0m_d2\u001b[0m \u001b[1;33m=\u001b[0m \u001b[0mpd\u001b[0m\u001b[1;33m.\u001b[0m\u001b[0mread_csv\u001b[0m\u001b[1;33m(\u001b[0m\u001b[0mbg\u001b[0m\u001b[1;33m[\u001b[0m\u001b[1;36m1\u001b[0m\u001b[1;33m]\u001b[0m\u001b[1;33m)\u001b[0m\u001b[1;33m\u001b[0m\u001b[1;33m\u001b[0m\u001b[0m\n\u001b[0;32m     24\u001b[0m     \u001b[0mincrement\u001b[0m\u001b[1;33m+=\u001b[0m\u001b[1;36m2\u001b[0m\u001b[1;33m\u001b[0m\u001b[1;33m\u001b[0m\u001b[0m\n\u001b[1;32m---> 25\u001b[1;33m     \u001b[0mf\u001b[0m\u001b[1;33m=\u001b[0m\u001b[0mnew_plot_LIG\u001b[0m\u001b[1;33m(\u001b[0m\u001b[0md1\u001b[0m\u001b[1;33m,\u001b[0m\u001b[0md2\u001b[0m\u001b[1;33m,\u001b[0m\u001b[0m_d1\u001b[0m\u001b[1;33m,\u001b[0m\u001b[0m_d2\u001b[0m\u001b[1;33m,\u001b[0m\u001b[0mix\u001b[0m\u001b[1;33m,\u001b[0m\u001b[0mline_number\u001b[0m\u001b[1;33m)\u001b[0m\u001b[1;33m\u001b[0m\u001b[1;33m\u001b[0m\u001b[0m\n\u001b[0m\u001b[0;32m     26\u001b[0m     \u001b[0mprint\u001b[0m\u001b[1;33m(\u001b[0m\u001b[0mix\u001b[0m\u001b[1;33m)\u001b[0m\u001b[1;33m\u001b[0m\u001b[1;33m\u001b[0m\u001b[0m\n\u001b[0;32m     27\u001b[0m     \u001b[0mfit\u001b[0m\u001b[1;33m.\u001b[0m\u001b[0mappend\u001b[0m\u001b[1;33m(\u001b[0m\u001b[0mf\u001b[0m\u001b[1;33m)\u001b[0m\u001b[1;33m\u001b[0m\u001b[1;33m\u001b[0m\u001b[0m\n",
      "\u001b[1;31mTypeError\u001b[0m: new_plot_LIG() missing 1 required positional argument: 'line_number'"
     ]
    }
   ],
   "source": [
    "import glob\n",
    "import pandas as pd\n",
    "from fits import new_plot_LIG\n",
    "\n",
    "one=[]\n",
    "bg=[]\n",
    "fit=[]\n",
    "\n",
    "\n",
    "a=\"line \"\n",
    "b=str(i)+\"*.csv\"\n",
    "c=a+b\n",
    "for file in glob.glob(c):one.append(f\"{file}\")\n",
    "for file in glob.glob(\"background*.csv\"):bg.append(f\"{file}\")    \n",
    "print(len(one))\n",
    "\n",
    "increment=0\n",
    "line_number=i\n",
    "for ix in range(int(len(one)/2)):\n",
    "    d1 = pd.read_csv(one[increment])\n",
    "    d2 = pd.read_csv(one[increment+1])\n",
    "    _d1 = pd.read_csv(bg[0])\n",
    "    _d2 = pd.read_csv(bg[1])\n",
    "    increment+=2\n",
    "    f=new_plot_LIG(d1,d2,_d1,_d2,ix,line_number)\n",
    "    print(ix)\n",
    "    fit.append(f)    \n",
    "\n"
   ]
  }
 ],
 "metadata": {
  "interpreter": {
   "hash": "f973be12851c820ff652aef0c5c7ae1e83f2b6909a5afc2d95b2d8fefd5f2560"
  },
  "kernelspec": {
   "display_name": "Python 3.7.3 ('base')",
   "language": "python",
   "name": "python3"
  },
  "language_info": {
   "codemirror_mode": {
    "name": "ipython",
    "version": 3
   },
   "file_extension": ".py",
   "mimetype": "text/x-python",
   "name": "python",
   "nbconvert_exporter": "python",
   "pygments_lexer": "ipython3",
   "version": "3.7.3"
  }
 },
 "nbformat": 4,
 "nbformat_minor": 2
}
